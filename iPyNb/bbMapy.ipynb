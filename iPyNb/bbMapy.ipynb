{
 "cells": [
  {
   "cell_type": "markdown",
   "metadata": {},
   "source": [
    "# Benzín Brno - Mapy.cz - Natural\n",
    "Url: <https://www.globus.cz/brno/cerpaci-stanice-a-myci-linka.html>\n",
    "\n",
    "Url: <https://mapy.cz/zakladni?id=734251&source=firm&x=16.5999068&y=49.1543930&z=18>\n",
    "\n",
    "Url: <https://mapy.cz/s/cokodocuka>\n",
    "\n",
    "Url: <https://bit.ly/3izRnLE>"
   ]
  },
  {
   "cell_type": "code",
   "execution_count": 6,
   "metadata": {},
   "outputs": [],
   "source": [
    "# pip install selenium\n",
    "\n",
    "from selenium import webdriver\n",
    "from selenium.webdriver.chrome.options import Options\n",
    "from bs4 import BeautifulSoup\n",
    "import os\n",
    "\n",
    "# selenium - How to bypass the message-“your connection is not private” on non-secure page using Selenium? - https://is.gd/7NDpuF\n",
    "options = webdriver.ChromeOptions()\n",
    "options.add_argument('--ignore-ssl-errors=yes')\n",
    "options.add_argument('--ignore-certificate-errors')\n",
    "driver = webdriver.Chrome('d:/Utils/chromedriver/chromedriver.exe', options=options)\n",
    "\n",
    "# requests - nacte stranku \n",
    "url = r'https://bit.ly/3izRnLE'\n",
    "Key = 'Benzín'\n",
    "\n",
    "# Load the HTML page\n",
    "driver.get(url)\n",
    "# # BeautifulSoup - pro JavaScript rendering \n",
    "# soup = BeautifulSoup(r.content, 'html.parser')\n",
    "\n",
    "# Parse processed webpage with BeautifulSoup\n",
    "soup = BeautifulSoup(driver.page_source, features=\"lxml\")\n",
    "item = soup.find(itemprop=\"price\").get_text()"
   ]
  },
  {
   "cell_type": "code",
   "execution_count": 7,
   "metadata": {},
   "outputs": [
    {
     "name": "stdout",
     "output_type": "stream",
     "text": [
      "item: 34.4 || type: <class 'float'>\n",
      "Cena: 34.40 || type: <class 'str'>\n"
     ]
    }
   ],
   "source": [
    "# 34,40 Kč => 34.40\n",
    "item = item.replace(\" Kč\", \"\")\n",
    "item = item.replace(\",\", \".\")\n",
    "# item\n",
    "item = float(item)\n",
    "print(\"item:\", item, '|| type:', type(item))\n",
    "# Cena\n",
    "Cena = '{:.2f}'.format(item)\n",
    "print(\"Cena:\", Cena, '|| type:', type(Cena))"
   ]
  },
  {
   "cell_type": "code",
   "execution_count": 8,
   "metadata": {},
   "outputs": [
    {
     "name": "stdout",
     "output_type": "stream",
     "text": [
      "Cena paliva - Benzín - je: 34.40\n"
     ]
    }
   ],
   "source": [
    "# Vysledek \n",
    "print('Cena paliva -', Key, '- je:', Cena )"
   ]
  },
  {
   "cell_type": "code",
   "execution_count": 9,
   "metadata": {},
   "outputs": [],
   "source": [
    "# Closes the current window\n",
    "driver.close()"
   ]
  },
  {
   "cell_type": "code",
   "execution_count": null,
   "metadata": {},
   "outputs": [],
   "source": []
  },
  {
   "cell_type": "code",
   "execution_count": null,
   "metadata": {},
   "outputs": [],
   "source": []
  },
  {
   "cell_type": "markdown",
   "metadata": {},
   "source": [
    "Notes \n",
    "VSCode: Jupyter won't export as Python script - https://bit.ly/3iDoH4B\n",
    "  pip install nbconvert\n",
    "  pip install pandoc\n",
    "  pip install pyppeteer\n"
   ]
  }
 ],
 "metadata": {
  "interpreter": {
   "hash": "7bdd0fe44d8ce35a4922564846341871bbcfef2737848252852c7c20446b1281"
  },
  "kernelspec": {
   "display_name": "Python 3.9.7 64-bit (windows store)",
   "name": "python3"
  },
  "language_info": {
   "codemirror_mode": {
    "name": "ipython",
    "version": 3
   },
   "file_extension": ".py",
   "mimetype": "text/x-python",
   "name": "python",
   "nbconvert_exporter": "python",
   "pygments_lexer": "ipython3",
   "version": "3.9.7"
  },
  "orig_nbformat": 4
 },
 "nbformat": 4,
 "nbformat_minor": 2
}
