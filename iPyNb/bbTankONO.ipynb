{
 "cells": [
  {
   "cell_type": "markdown",
   "metadata": {},
   "source": [
    "# Benzín Brno - TankONO - Natural \"95\" - pumpa: 'ČS Brno-Hviezdoslavova'\n",
    "Url: <http://www.tank-ono.cz/cz/index.php?page=cenik>"
   ]
  },
  {
   "cell_type": "code",
   "execution_count": 96,
   "metadata": {},
   "outputs": [],
   "source": [
    "import requests\n",
    "from bs4 import BeautifulSoup\n",
    "import pandas as pd\n",
    "import numpy as np\n",
    "import matplotlib.pyplot as plt\n",
    "from unicodedata import normalize\n",
    "\n",
    "# requests - nacte stranku \n",
    "url = r'http://www.tank-ono.cz/cz/index.php?page=cenik'\n",
    "headers = {'User-Agent': 'Mozilla/5.0 (Windows NT 10.0; Win64; x64) AppleWebKit/537.36 (KHTML, like Gecko) Chrome/85.0.4183.102 Safari/537.36'}\n",
    "r = requests.get(url, headers)\n",
    "# r.content\n",
    "# BeautifulSoup - ted nepotrebuji neni JavaScript \n",
    "# soup = BeautifulSoup(r.content, 'html.parser')"
   ]
  },
  {
   "cell_type": "code",
   "execution_count": 97,
   "metadata": {},
   "outputs": [
    {
     "name": "stdout",
     "output_type": "stream",
     "text": [
      "Total tables: 2\n"
     ]
    }
   ],
   "source": [
    "# pd najde tabulky \n",
    "# table_MN = pd.read_html('https://en.wikipedia.org/wiki/Minnesota', match='Election results from statewide races')\n",
    "table = pd.read_html(r.content, attrs={\"class\": \"cenik\"})\n",
    "print(f'Total tables: {len(table)}')"
   ]
  },
  {
   "cell_type": "code",
   "execution_count": 98,
   "metadata": {},
   "outputs": [
    {
     "data": {
      "text/plain": [
       "pandas.core.frame.DataFrame"
      ]
     },
     "execution_count": 98,
     "metadata": {},
     "output_type": "execute_result"
    }
   ],
   "source": [
    "# tabulek je 2, zajima me c. 1\n",
    "# table[0]\n",
    "df = table[0]\n",
    "type(df)"
   ]
  },
  {
   "cell_type": "code",
   "execution_count": 99,
   "metadata": {},
   "outputs": [
    {
     "name": "stdout",
     "output_type": "stream",
     "text": [
      "<class 'pandas.core.frame.DataFrame'>\n",
      "RangeIndex: 45 entries, 0 to 44\n",
      "Data columns (total 11 columns):\n",
      " #   Column      Non-Null Count  Dtype \n",
      "---  ------      --------------  ----- \n",
      " 0   Unnamed: 0  45 non-null     object\n",
      " 1   (CZK)       45 non-null     object\n",
      " 2   (CZK).1     45 non-null     object\n",
      " 3   (CZK).2     45 non-null     object\n",
      " 4   (CZK).3     45 non-null     object\n",
      " 5   (CZK).4     45 non-null     object\n",
      " 6   (CZK).5     45 non-null     object\n",
      " 7   (CZK).6     45 non-null     object\n",
      " 8   (CZK).7     45 non-null     object\n",
      " 9   (CZK).8     45 non-null     object\n",
      " 10  (CZK).9     45 non-null     object\n",
      "dtypes: object(11)\n",
      "memory usage: 4.0+ KB\n"
     ]
    },
    {
     "data": {
      "text/html": [
       "<div>\n",
       "<style scoped>\n",
       "    .dataframe tbody tr th:only-of-type {\n",
       "        vertical-align: middle;\n",
       "    }\n",
       "\n",
       "    .dataframe tbody tr th {\n",
       "        vertical-align: top;\n",
       "    }\n",
       "\n",
       "    .dataframe thead th {\n",
       "        text-align: right;\n",
       "    }\n",
       "</style>\n",
       "<table border=\"1\" class=\"dataframe\">\n",
       "  <thead>\n",
       "    <tr style=\"text-align: right;\">\n",
       "      <th></th>\n",
       "      <th>Unnamed: 0</th>\n",
       "      <th>(CZK)</th>\n",
       "      <th>(CZK).1</th>\n",
       "      <th>(CZK).2</th>\n",
       "      <th>(CZK).3</th>\n",
       "      <th>(CZK).4</th>\n",
       "      <th>(CZK).5</th>\n",
       "      <th>(CZK).6</th>\n",
       "      <th>(CZK).7</th>\n",
       "      <th>(CZK).8</th>\n",
       "      <th>(CZK).9</th>\n",
       "    </tr>\n",
       "  </thead>\n",
       "  <tbody>\n",
       "    <tr>\n",
       "      <th>0</th>\n",
       "      <td>ČS Plzeň, Domažlická</td>\n",
       "      <td>---</td>\n",
       "      <td>3350</td>\n",
       "      <td>---</td>\n",
       "      <td>3550</td>\n",
       "      <td>3190</td>\n",
       "      <td>3250</td>\n",
       "      <td>990</td>\n",
       "      <td>---</td>\n",
       "      <td>---</td>\n",
       "      <td>---</td>\n",
       "    </tr>\n",
       "    <tr>\n",
       "      <th>1</th>\n",
       "      <td>ČS Nýřany</td>\n",
       "      <td>---</td>\n",
       "      <td>3350</td>\n",
       "      <td>---</td>\n",
       "      <td>3550</td>\n",
       "      <td>3190</td>\n",
       "      <td>3250</td>\n",
       "      <td>990</td>\n",
       "      <td>1390</td>\n",
       "      <td>4900</td>\n",
       "      <td>39900</td>\n",
       "    </tr>\n",
       "    <tr>\n",
       "      <th>2</th>\n",
       "      <td>ČS Plzeň, Studentská</td>\n",
       "      <td>---</td>\n",
       "      <td>3350</td>\n",
       "      <td>3390</td>\n",
       "      <td>3550</td>\n",
       "      <td>3190</td>\n",
       "      <td>3250</td>\n",
       "      <td>---</td>\n",
       "      <td>1390</td>\n",
       "      <td>4900</td>\n",
       "      <td>---</td>\n",
       "    </tr>\n",
       "    <tr>\n",
       "      <th>3</th>\n",
       "      <td>ČS Sokolov</td>\n",
       "      <td>---</td>\n",
       "      <td>3350</td>\n",
       "      <td>---</td>\n",
       "      <td>3550</td>\n",
       "      <td>3190</td>\n",
       "      <td>3250</td>\n",
       "      <td>990</td>\n",
       "      <td>---</td>\n",
       "      <td>---</td>\n",
       "      <td>---</td>\n",
       "    </tr>\n",
       "    <tr>\n",
       "      <th>4</th>\n",
       "      <td>ČS Teplice</td>\n",
       "      <td>---</td>\n",
       "      <td>3350</td>\n",
       "      <td>---</td>\n",
       "      <td>3550</td>\n",
       "      <td>3190</td>\n",
       "      <td>3250</td>\n",
       "      <td>990</td>\n",
       "      <td>---</td>\n",
       "      <td>4900</td>\n",
       "      <td>---</td>\n",
       "    </tr>\n",
       "  </tbody>\n",
       "</table>\n",
       "</div>"
      ],
      "text/plain": [
       "             Unnamed: 0 (CZK) (CZK).1 (CZK).2 (CZK).3 (CZK).4 (CZK).5 (CZK).6  \\\n",
       "0  ČS Plzeň, Domažlická   ---    3350     ---    3550    3190    3250     990   \n",
       "1             ČS Nýřany   ---    3350     ---    3550    3190    3250     990   \n",
       "2  ČS Plzeň, Studentská   ---    3350    3390    3550    3190    3250     ---   \n",
       "3            ČS Sokolov   ---    3350     ---    3550    3190    3250     990   \n",
       "4            ČS Teplice   ---    3350     ---    3550    3190    3250     990   \n",
       "\n",
       "  (CZK).7 (CZK).8 (CZK).9  \n",
       "0     ---     ---     ---  \n",
       "1    1390    4900   39900  \n",
       "2    1390    4900     ---  \n",
       "3     ---     ---     ---  \n",
       "4     ---    4900     ---  "
      ]
     },
     "execution_count": 99,
     "metadata": {},
     "output_type": "execute_result"
    }
   ],
   "source": [
    "df.info()\n",
    "df.head()"
   ]
  },
  {
   "cell_type": "code",
   "execution_count": 100,
   "metadata": {},
   "outputs": [],
   "source": [
    "# adding column name to the respective columns - https://bit.ly/3oxfuhN\n",
    "df.columns =['Name', 'Cena91', 'Cena95', 'Cena95+', 'Cena98', 'CenaD', 'CenaD+', 'CenaAdB', 'CenaLPG', 'CenaM1', 'CenaM2']"
   ]
  },
  {
   "cell_type": "code",
   "execution_count": 101,
   "metadata": {},
   "outputs": [
    {
     "name": "stdout",
     "output_type": "stream",
     "text": [
      "<class 'pandas.core.frame.DataFrame'>\n",
      "RangeIndex: 45 entries, 0 to 44\n",
      "Data columns (total 11 columns):\n",
      " #   Column   Non-Null Count  Dtype \n",
      "---  ------   --------------  ----- \n",
      " 0   Name     45 non-null     object\n",
      " 1   Cena91   45 non-null     object\n",
      " 2   Cena95   45 non-null     object\n",
      " 3   Cena95+  45 non-null     object\n",
      " 4   Cena98   45 non-null     object\n",
      " 5   CenaD    45 non-null     object\n",
      " 6   CenaD+   45 non-null     object\n",
      " 7   CenaAdB  45 non-null     object\n",
      " 8   CenaLPG  45 non-null     object\n",
      " 9   CenaM1   45 non-null     object\n",
      " 10  CenaM2   45 non-null     object\n",
      "dtypes: object(11)\n",
      "memory usage: 4.0+ KB\n"
     ]
    },
    {
     "data": {
      "text/html": [
       "<div>\n",
       "<style scoped>\n",
       "    .dataframe tbody tr th:only-of-type {\n",
       "        vertical-align: middle;\n",
       "    }\n",
       "\n",
       "    .dataframe tbody tr th {\n",
       "        vertical-align: top;\n",
       "    }\n",
       "\n",
       "    .dataframe thead th {\n",
       "        text-align: right;\n",
       "    }\n",
       "</style>\n",
       "<table border=\"1\" class=\"dataframe\">\n",
       "  <thead>\n",
       "    <tr style=\"text-align: right;\">\n",
       "      <th></th>\n",
       "      <th>Name</th>\n",
       "      <th>Cena91</th>\n",
       "      <th>Cena95</th>\n",
       "      <th>Cena95+</th>\n",
       "      <th>Cena98</th>\n",
       "      <th>CenaD</th>\n",
       "      <th>CenaD+</th>\n",
       "      <th>CenaAdB</th>\n",
       "      <th>CenaLPG</th>\n",
       "      <th>CenaM1</th>\n",
       "      <th>CenaM2</th>\n",
       "    </tr>\n",
       "  </thead>\n",
       "  <tbody>\n",
       "    <tr>\n",
       "      <th>0</th>\n",
       "      <td>ČS Plzeň, Domažlická</td>\n",
       "      <td>---</td>\n",
       "      <td>3350</td>\n",
       "      <td>---</td>\n",
       "      <td>3550</td>\n",
       "      <td>3190</td>\n",
       "      <td>3250</td>\n",
       "      <td>990</td>\n",
       "      <td>---</td>\n",
       "      <td>---</td>\n",
       "      <td>---</td>\n",
       "    </tr>\n",
       "    <tr>\n",
       "      <th>1</th>\n",
       "      <td>ČS Nýřany</td>\n",
       "      <td>---</td>\n",
       "      <td>3350</td>\n",
       "      <td>---</td>\n",
       "      <td>3550</td>\n",
       "      <td>3190</td>\n",
       "      <td>3250</td>\n",
       "      <td>990</td>\n",
       "      <td>1390</td>\n",
       "      <td>4900</td>\n",
       "      <td>39900</td>\n",
       "    </tr>\n",
       "    <tr>\n",
       "      <th>2</th>\n",
       "      <td>ČS Plzeň, Studentská</td>\n",
       "      <td>---</td>\n",
       "      <td>3350</td>\n",
       "      <td>3390</td>\n",
       "      <td>3550</td>\n",
       "      <td>3190</td>\n",
       "      <td>3250</td>\n",
       "      <td>---</td>\n",
       "      <td>1390</td>\n",
       "      <td>4900</td>\n",
       "      <td>---</td>\n",
       "    </tr>\n",
       "    <tr>\n",
       "      <th>3</th>\n",
       "      <td>ČS Sokolov</td>\n",
       "      <td>---</td>\n",
       "      <td>3350</td>\n",
       "      <td>---</td>\n",
       "      <td>3550</td>\n",
       "      <td>3190</td>\n",
       "      <td>3250</td>\n",
       "      <td>990</td>\n",
       "      <td>---</td>\n",
       "      <td>---</td>\n",
       "      <td>---</td>\n",
       "    </tr>\n",
       "    <tr>\n",
       "      <th>4</th>\n",
       "      <td>ČS Teplice</td>\n",
       "      <td>---</td>\n",
       "      <td>3350</td>\n",
       "      <td>---</td>\n",
       "      <td>3550</td>\n",
       "      <td>3190</td>\n",
       "      <td>3250</td>\n",
       "      <td>990</td>\n",
       "      <td>---</td>\n",
       "      <td>4900</td>\n",
       "      <td>---</td>\n",
       "    </tr>\n",
       "  </tbody>\n",
       "</table>\n",
       "</div>"
      ],
      "text/plain": [
       "                   Name Cena91 Cena95 Cena95+ Cena98 CenaD CenaD+ CenaAdB  \\\n",
       "0  ČS Plzeň, Domažlická    ---   3350     ---   3550  3190   3250     990   \n",
       "1             ČS Nýřany    ---   3350     ---   3550  3190   3250     990   \n",
       "2  ČS Plzeň, Studentská    ---   3350    3390   3550  3190   3250     ---   \n",
       "3            ČS Sokolov    ---   3350     ---   3550  3190   3250     990   \n",
       "4            ČS Teplice    ---   3350     ---   3550  3190   3250     990   \n",
       "\n",
       "  CenaLPG CenaM1 CenaM2  \n",
       "0     ---    ---    ---  \n",
       "1    1390   4900  39900  \n",
       "2    1390   4900    ---  \n",
       "3     ---    ---    ---  \n",
       "4     ---   4900    ---  "
      ]
     },
     "execution_count": 101,
     "metadata": {},
     "output_type": "execute_result"
    }
   ],
   "source": [
    "df.info()\n",
    "df.head()"
   ]
  },
  {
   "cell_type": "code",
   "execution_count": null,
   "metadata": {},
   "outputs": [],
   "source": []
  },
  {
   "cell_type": "code",
   "execution_count": 102,
   "metadata": {},
   "outputs": [
    {
     "data": {
      "text/html": [
       "<div>\n",
       "<style scoped>\n",
       "    .dataframe tbody tr th:only-of-type {\n",
       "        vertical-align: middle;\n",
       "    }\n",
       "\n",
       "    .dataframe tbody tr th {\n",
       "        vertical-align: top;\n",
       "    }\n",
       "\n",
       "    .dataframe thead th {\n",
       "        text-align: right;\n",
       "    }\n",
       "</style>\n",
       "<table border=\"1\" class=\"dataframe\">\n",
       "  <thead>\n",
       "    <tr style=\"text-align: right;\">\n",
       "      <th></th>\n",
       "      <th>Name</th>\n",
       "      <th>Cena91</th>\n",
       "      <th>Cena95</th>\n",
       "      <th>Cena95+</th>\n",
       "      <th>Cena98</th>\n",
       "      <th>CenaD</th>\n",
       "      <th>CenaD+</th>\n",
       "      <th>CenaAdB</th>\n",
       "      <th>CenaLPG</th>\n",
       "      <th>CenaM1</th>\n",
       "      <th>CenaM2</th>\n",
       "    </tr>\n",
       "  </thead>\n",
       "  <tbody>\n",
       "    <tr>\n",
       "      <th>41</th>\n",
       "      <td>ČS Brno-Hviezdoslavova</td>\n",
       "      <td>---</td>\n",
       "      <td>3350</td>\n",
       "      <td>---</td>\n",
       "      <td>3550</td>\n",
       "      <td>3190</td>\n",
       "      <td>3250</td>\n",
       "      <td>990</td>\n",
       "      <td>---</td>\n",
       "      <td>4900</td>\n",
       "      <td>---</td>\n",
       "    </tr>\n",
       "  </tbody>\n",
       "</table>\n",
       "</div>"
      ],
      "text/plain": [
       "                      Name Cena91 Cena95 Cena95+ Cena98 CenaD CenaD+ CenaAdB  \\\n",
       "41  ČS Brno-Hviezdoslavova    ---   3350     ---   3550  3190   3250     990   \n",
       "\n",
       "   CenaLPG CenaM1 CenaM2  \n",
       "41     ---   4900    ---  "
      ]
     },
     "execution_count": 102,
     "metadata": {},
     "output_type": "execute_result"
    }
   ],
   "source": [
    "Key = 'ČS Brno-Hviezdoslavova'\n",
    "Radek = df.loc[df['Name'] == Key]\n",
    "Radek"
   ]
  },
  {
   "cell_type": "code",
   "execution_count": 103,
   "metadata": {},
   "outputs": [
    {
     "data": {
      "text/plain": [
       "'3350'"
      ]
     },
     "execution_count": 103,
     "metadata": {},
     "output_type": "execute_result"
    }
   ],
   "source": [
    "# How to get a value from a Pandas DataFrame and not the index and object type - https://bit.ly/3BhmuDc\n",
    "item =  Radek['Cena95'].values[0]\n",
    "item\n"
   ]
  },
  {
   "cell_type": "code",
   "execution_count": 104,
   "metadata": {},
   "outputs": [
    {
     "name": "stdout",
     "output_type": "stream",
     "text": [
      "item: 33.5 || type: <class 'float'>\n",
      "Cena: 33.50 || type: <class 'str'>\n"
     ]
    }
   ],
   "source": [
    "# 3350 => 33.50\n",
    "item =  float(item) / 100\n",
    "print(\"item:\", item, '|| type:', type(item))\n",
    "# Cena\n",
    "Cena = '{:.2f}'.format(item)\n",
    "print(\"Cena:\", Cena, '|| type:', type(Cena))\n"
   ]
  },
  {
   "cell_type": "code",
   "execution_count": 105,
   "metadata": {},
   "outputs": [
    {
     "name": "stdout",
     "output_type": "stream",
     "text": [
      "Cena paliva - ČS Brno-Hviezdoslavova - je: 33.50\n"
     ]
    }
   ],
   "source": [
    "print('Cena paliva -', Key, '- je:', Cena )"
   ]
  },
  {
   "cell_type": "code",
   "execution_count": null,
   "metadata": {},
   "outputs": [],
   "source": []
  },
  {
   "cell_type": "code",
   "execution_count": null,
   "metadata": {},
   "outputs": [],
   "source": []
  }
 ],
 "metadata": {
  "interpreter": {
   "hash": "26840a7891600ff8da7f0cbaa3f56670516648b7b7c1c28834243fb90cb540dd"
  },
  "kernelspec": {
   "display_name": "Python 3.9.7 64-bit ('vEnv': venv)",
   "name": "python3"
  },
  "language_info": {
   "codemirror_mode": {
    "name": "ipython",
    "version": 3
   },
   "file_extension": ".py",
   "mimetype": "text/x-python",
   "name": "python",
   "nbconvert_exporter": "python",
   "pygments_lexer": "ipython3",
   "version": "3.9.7"
  },
  "orig_nbformat": 4
 },
 "nbformat": 4,
 "nbformat_minor": 2
}
