{
 "cells": [
  {
   "cell_type": "markdown",
   "metadata": {},
   "source": [
    "# Benzín Brno - mBenzin.cz\n",
    "Url: <https://bit.ly/3ltfpd1>\n",
    "\n",
    "Url: <https://www.mbenzin.cz/Nejlevnejsi-benzin/brno>"
   ]
  },
  {
   "cell_type": "code",
   "execution_count": 12,
   "metadata": {},
   "outputs": [],
   "source": [
    "import requests\n",
    "from bs4 import BeautifulSoup\n",
    "import pandas as pd\n",
    "import numpy as np\n",
    "import matplotlib.pyplot as plt\n",
    "from unicodedata import normalize\n",
    "\n",
    "# requests - nacte stranku \n",
    "url = r'https://bit.ly/3ltfpd1'\n",
    "headers = {'User-Agent': 'Mozilla/5.0 (Windows NT 10.0; Win64; x64) AppleWebKit/537.36 (KHTML, like Gecko) Chrome/85.0.4183.102 Safari/537.36'}\n",
    "r = requests.get(url, headers)\n",
    "# r.content\n",
    "\n",
    "# BeautifulSoup - ted nepotrebuji neni JavaScript \n",
    "soup = BeautifulSoup(r.content, 'html.parser')\n",
    "# soup"
   ]
  },
  {
   "cell_type": "code",
   "execution_count": 13,
   "metadata": {},
   "outputs": [
    {
     "data": {
      "text/plain": [
       "'35,90'"
      ]
     },
     "execution_count": 13,
     "metadata": {},
     "output_type": "execute_result"
    }
   ],
   "source": [
    "# Benzin \n",
    "Key = 'ContentPlaceHolder1_lN95Cost'\n",
    "# span + id \n",
    "try:\n",
    "  item = soup.find('span', id=Key).text.strip()\n",
    "except:\n",
    "  item = ''\n",
    "\n",
    "item"
   ]
  },
  {
   "cell_type": "code",
   "execution_count": 14,
   "metadata": {},
   "outputs": [
    {
     "name": "stdout",
     "output_type": "stream",
     "text": [
      "item: 35.9 || type: <class 'float'>\n",
      "Cena: 35.90 || type: <class 'str'>\n"
     ]
    }
   ],
   "source": [
    "# '35,90'  => 35.90\n",
    "item = item.replace(\",\", \".\")\n",
    "item\n",
    "# item\n",
    "item = float(item)\n",
    "print(\"item:\", item, '|| type:', type(item))\n",
    "# Cena\n",
    "Cena = '{:.2f}'.format(item)\n",
    "print(\"Cena:\", Cena, '|| type:', type(Cena))\n",
    "\n"
   ]
  },
  {
   "cell_type": "code",
   "execution_count": 15,
   "metadata": {},
   "outputs": [
    {
     "name": "stdout",
     "output_type": "stream",
     "text": [
      "Cena paliva - ContentPlaceHolder1_lN95Cost - je: 35.90\n"
     ]
    }
   ],
   "source": [
    "print('Cena paliva -', Key, '- je:', Cena )"
   ]
  },
  {
   "cell_type": "code",
   "execution_count": null,
   "metadata": {},
   "outputs": [],
   "source": []
  },
  {
   "cell_type": "code",
   "execution_count": null,
   "metadata": {},
   "outputs": [],
   "source": []
  }
 ],
 "metadata": {
  "interpreter": {
   "hash": "26840a7891600ff8da7f0cbaa3f56670516648b7b7c1c28834243fb90cb540dd"
  },
  "kernelspec": {
   "display_name": "Python 3.9.7 64-bit ('vEnv': venv)",
   "name": "python3"
  },
  "language_info": {
   "codemirror_mode": {
    "name": "ipython",
    "version": 3
   },
   "file_extension": ".py",
   "mimetype": "text/x-python",
   "name": "python",
   "nbconvert_exporter": "python",
   "pygments_lexer": "ipython3",
   "version": "3.9.7"
  },
  "orig_nbformat": 4
 },
 "nbformat": 4,
 "nbformat_minor": 2
}
